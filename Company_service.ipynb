{
 "cells": [
  {
   "cell_type": "markdown",
   "metadata": {},
   "source": [
    "## A computer manufacturing company claims that on an average it will respond to any complaint logged by the customer from anywhere in the world in 24hours.\n",
    "# So\n",
    "# H0 - The company responds to any complaint within 24 hours\n",
    "# H1 - The company doesnt respond to the complaints within 24 hours"
   ]
  },
  {
   "cell_type": "code",
   "execution_count": 35,
   "metadata": {},
   "outputs": [],
   "source": [
    "import pandas \n",
    "from math import sqrt\n",
    "from scipy import stats "
   ]
  },
  {
   "cell_type": "code",
   "execution_count": 39,
   "metadata": {},
   "outputs": [
    {
     "name": "stdout",
     "output_type": "stream",
     "text": [
      "THE DATASET CONTAINING RESPONSE TIME 👇\n",
      "SI.NO  RESPONSE_TIME\n"
     ]
    },
    {
     "data": {
      "text/plain": [
       "0     24\n",
       "1     31\n",
       "2     29\n",
       "3     26\n",
       "4     28\n",
       "5     26\n",
       "6     29\n",
       "7     29\n",
       "8     27\n",
       "9     31\n",
       "10    25\n",
       "11    29\n",
       "12    29\n",
       "13    25\n",
       "14    26\n",
       "15    26\n",
       "16    27\n",
       "17    24\n",
       "18    23\n",
       "19    27\n",
       "20    28\n",
       "21    27\n",
       "22    23\n",
       "23    27\n",
       "24    23\n",
       "25    25\n",
       "26    27\n",
       "27    26\n",
       "28    28\n",
       "29    27\n",
       "Name: Response_Time, dtype: int64"
      ]
     },
     "execution_count": 39,
     "metadata": {},
     "output_type": "execute_result"
    }
   ],
   "source": [
    "dataset=p.read_csv('Complaint_Response_Time.csv')\n",
    "Response_time=dataset.Response_Time  \n",
    "print(\"THE DATASET CONTAINING RESPONSE TIME 👇\")\n",
    "print(\"SI.NO  RESPONSE_TIME\")\n",
    "Response_time"
   ]
  },
  {
   "cell_type": "code",
   "execution_count": 50,
   "metadata": {},
   "outputs": [],
   "source": [
    "def findpvalue():\n",
    "    \n",
    "    xbar=Response_time.mean()\n",
    "    specific_value=24\n",
    "    standard_deviation=Response_time.std()\n",
    "    square_root_of_n=sqrt(rt.count())\n",
    "    \n",
    "    test_statics=(xbar-specific_value)/(standard_deviation/square_root_of_n)\n",
    "    \n",
    "    pv=st.ttest_1samp(rt,24)\n",
    "    value_of_p = pv.pvalue\n",
    "    \n",
    "    if value_of_p < 0.05:\n",
    "        result=\"SORRY HYPOTHESIS IS REJECTED\"\n",
    "    else:\n",
    "        result=\"HYPOTHESIS IS ACCEPTED\"\n",
    "        \n",
    "    return(test_statics,value_of_p,result)"
   ]
  },
  {
   "cell_type": "code",
   "execution_count": 54,
   "metadata": {},
   "outputs": [
    {
     "name": "stdout",
     "output_type": "stream",
     "text": [
      "TEST STATISTICS:  6.916649423974789\n",
      "MEAN VALUE:  26.733333333333334\n",
      "VALUE OF P:  1.3350896696104558e-07\n",
      "CONCLUSION:  SORRY HYPOTHESIS IS REJECTED\n"
     ]
    }
   ],
   "source": [
    "ts,vp,r=findpvalue()\n",
    "print(\"TEST STATISTICS: \",ts)\n",
    "print(\"MEAN VALUE: \",Response_time.mean())\n",
    "print(\"VALUE OF P: \",vp)\n",
    "print(\"CONCLUSION: \",r)"
   ]
  }
 ],
 "metadata": {
  "kernelspec": {
   "display_name": "Python 3",
   "language": "python",
   "name": "python3"
  },
  "language_info": {
   "codemirror_mode": {
    "name": "ipython",
    "version": 3
   },
   "file_extension": ".py",
   "mimetype": "text/x-python",
   "name": "python",
   "nbconvert_exporter": "python",
   "pygments_lexer": "ipython3",
   "version": "3.8.3"
  }
 },
 "nbformat": 4,
 "nbformat_minor": 2
}
